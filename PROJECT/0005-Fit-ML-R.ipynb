{
 "cells": [
  {
   "cell_type": "markdown",
   "metadata": {},
   "source": [
    "# Practical Machine Learning Course Project\n",
    "## Yanal Kashou  "
   ]
  },
  {
   "cell_type": "markdown",
   "metadata": {},
   "source": [
    "## Introduction\n",
    "### 1. Source for this project available here:\n",
    "The source for the training data is:\n",
    "https://d396qusza40orc.cloudfront.net/predmachlearn/pml-training.csv  \n",
    "The source for the test data is:\n",
    "https://d396qusza40orc.cloudfront.net/predmachlearn/pml-testing.csv "
   ]
  },
  {
   "cell_type": "markdown",
   "metadata": {},
   "source": [
    "### 2. Credit\n",
    "Many thanks to the authors for providing this dataset for free use.   http://groupware.les.inf.puc-rio.br/har  \n",
    "Velloso, E.; Bulling, A.; Gellersen, H.; Ugulino, W.; Fuks, H. __Qualitative Activity Recognition of Weight Lifting Exercises__.  \n",
    "Proceedings of 4th International Conference in Cooperation with SIGCHI (Augmented Human '13) . Stuttgart, Germany: ACM SIGCHI, 2013. "
   ]
  },
  {
   "cell_type": "markdown",
   "metadata": {},
   "source": [
    "## Synopsis\n",
    "In this project we are going to attempt to predict the testing dataset provided through the link above, through the training dataset also provided.  \n",
    "\n",
    "Our first step will be to load the necessary libraries for our analysis.  \n",
    "\n",
    "Our second step will be to read the data, partition the training dataset into 60% training and 40% validation.  \n",
    "\n",
    "Next we need to clean it from any NA values or anomalies, and reduce it to a workable size.  \n",
    "\n",
    "Our third step is to implement various machine learning algorithms, namely Decision Tree, Random Forest and Support Machine Vector to predict the testing dataset.  \n",
    "\n",
    "Our fourth step is to assess the performance and accuracy of these methods.  \n",
    "\n",
    "Our fifth and final step is to use the algorithm with the highest accuracy to effectively and accurately predict the test dataset provided.  \n"
   ]
  },
  {
   "cell_type": "code",
   "execution_count": 21,
   "metadata": {
    "collapsed": false
   },
   "outputs": [],
   "source": [
    "library(caret) #For training datasets and applying machine learning algorithms\n",
    "library(ggplot2) #For awesome plotting\n",
    "library(rpart)\n",
    "library(rpart.plot)\n",
    "library(rattle)\n",
    "library(randomForest)\n",
    "library(e1071)\n",
    "library(dplyr)\n",
    "set.seed(111)"
   ]
  },
  {
   "cell_type": "markdown",
   "metadata": {},
   "source": [
    "## Data Loading, Cleaning and Partitioning\n",
    "### 1. Loading and Reading"
   ]
  },
  {
   "cell_type": "code",
   "execution_count": 22,
   "metadata": {
    "collapsed": false
   },
   "outputs": [],
   "source": [
    "# We will use url0 for the training dataset and url1 for the testing dataset\n",
    "url0 <- \"https://d396qusza40orc.cloudfront.net/predmachlearn/pml-training.csv\" \n",
    "url1 <- \"https://d396qusza40orc.cloudfront.net/predmachlearn/pml-testing.csv\"\n",
    "\n",
    "# Download and read datasets\n",
    "train <- read.csv(url(url0))\n",
    "test <- read.csv(url(url1))\n"
   ]
  },
  {
   "cell_type": "markdown",
   "metadata": {},
   "source": [
    "### 2. Partitioning"
   ]
  },
  {
   "cell_type": "code",
   "execution_count": 23,
   "metadata": {
    "collapsed": false
   },
   "outputs": [],
   "source": [
    "#Partition the training data into 60% training and 40% validation and check dimensions.\n",
    "trainIndex <- createDataPartition(train$classe, p = .60, list = FALSE)\n",
    "trainData <- train[ trainIndex, ]\n",
    "validData <- train[-trainIndex, ]"
   ]
  },
  {
   "cell_type": "code",
   "execution_count": 24,
   "metadata": {
    "collapsed": false
   },
   "outputs": [
    {
     "data": {
      "text/html": [
       "<ol class=list-inline>\n",
       "\t<li>11776</li>\n",
       "\t<li>160</li>\n",
       "</ol>\n"
      ],
      "text/latex": [
       "\\begin{enumerate*}\n",
       "\\item 11776\n",
       "\\item 160\n",
       "\\end{enumerate*}\n"
      ],
      "text/markdown": [
       "1. 11776\n",
       "2. 160\n",
       "\n",
       "\n"
      ],
      "text/plain": [
       "[1] 11776   160"
      ]
     },
     "metadata": {},
     "output_type": "display_data"
    }
   ],
   "source": [
    "dim(trainData)"
   ]
  },
  {
   "cell_type": "code",
   "execution_count": 25,
   "metadata": {
    "collapsed": false
   },
   "outputs": [
    {
     "data": {
      "text/html": [
       "<ol class=list-inline>\n",
       "\t<li>7846</li>\n",
       "\t<li>160</li>\n",
       "</ol>\n"
      ],
      "text/latex": [
       "\\begin{enumerate*}\n",
       "\\item 7846\n",
       "\\item 160\n",
       "\\end{enumerate*}\n"
      ],
      "text/markdown": [
       "1. 7846\n",
       "2. 160\n",
       "\n",
       "\n"
      ],
      "text/plain": [
       "[1] 7846  160"
      ]
     },
     "metadata": {},
     "output_type": "display_data"
    }
   ],
   "source": [
    "dim(validData)"
   ]
  },
  {
   "cell_type": "markdown",
   "metadata": {},
   "source": [
    "### 3. Cleaning"
   ]
  },
  {
   "cell_type": "code",
   "execution_count": 26,
   "metadata": {
    "collapsed": false
   },
   "outputs": [
    {
     "data": {
      "text/html": [
       "<ol class=list-inline>\n",
       "\t<li>11776</li>\n",
       "\t<li>93</li>\n",
       "</ol>\n"
      ],
      "text/latex": [
       "\\begin{enumerate*}\n",
       "\\item 11776\n",
       "\\item 93\n",
       "\\end{enumerate*}\n"
      ],
      "text/markdown": [
       "1. 11776\n",
       "2. 93\n",
       "\n",
       "\n"
      ],
      "text/plain": [
       "[1] 11776    93"
      ]
     },
     "metadata": {},
     "output_type": "display_data"
    },
    {
     "data": {
      "text/html": [
       "<ol class=list-inline>\n",
       "\t<li>7846</li>\n",
       "\t<li>93</li>\n",
       "</ol>\n"
      ],
      "text/latex": [
       "\\begin{enumerate*}\n",
       "\\item 7846\n",
       "\\item 93\n",
       "\\end{enumerate*}\n"
      ],
      "text/markdown": [
       "1. 7846\n",
       "2. 93\n",
       "\n",
       "\n"
      ],
      "text/plain": [
       "[1] 7846   93"
      ]
     },
     "metadata": {},
     "output_type": "display_data"
    },
    {
     "data": {
      "text/html": [
       "<ol class=list-inline>\n",
       "\t<li>11776</li>\n",
       "\t<li>88</li>\n",
       "</ol>\n"
      ],
      "text/latex": [
       "\\begin{enumerate*}\n",
       "\\item 11776\n",
       "\\item 88\n",
       "\\end{enumerate*}\n"
      ],
      "text/markdown": [
       "1. 11776\n",
       "2. 88\n",
       "\n",
       "\n"
      ],
      "text/plain": [
       "[1] 11776    88"
      ]
     },
     "metadata": {},
     "output_type": "display_data"
    },
    {
     "data": {
      "text/html": [
       "<ol class=list-inline>\n",
       "\t<li>7846</li>\n",
       "\t<li>88</li>\n",
       "</ol>\n"
      ],
      "text/latex": [
       "\\begin{enumerate*}\n",
       "\\item 7846\n",
       "\\item 88\n",
       "\\end{enumerate*}\n"
      ],
      "text/markdown": [
       "1. 7846\n",
       "2. 88\n",
       "\n",
       "\n"
      ],
      "text/plain": [
       "[1] 7846   88"
      ]
     },
     "metadata": {},
     "output_type": "display_data"
    },
    {
     "data": {
      "text/html": [
       "<ol class=list-inline>\n",
       "\t<li>11776</li>\n",
       "\t<li>54</li>\n",
       "</ol>\n"
      ],
      "text/latex": [
       "\\begin{enumerate*}\n",
       "\\item 11776\n",
       "\\item 54\n",
       "\\end{enumerate*}\n"
      ],
      "text/markdown": [
       "1. 11776\n",
       "2. 54\n",
       "\n",
       "\n"
      ],
      "text/plain": [
       "[1] 11776    54"
      ]
     },
     "metadata": {},
     "output_type": "display_data"
    },
    {
     "data": {
      "text/html": [
       "<ol class=list-inline>\n",
       "\t<li>7846</li>\n",
       "\t<li>54</li>\n",
       "</ol>\n"
      ],
      "text/latex": [
       "\\begin{enumerate*}\n",
       "\\item 7846\n",
       "\\item 54\n",
       "\\end{enumerate*}\n"
      ],
      "text/markdown": [
       "1. 7846\n",
       "2. 54\n",
       "\n",
       "\n"
      ],
      "text/plain": [
       "[1] 7846   54"
      ]
     },
     "metadata": {},
     "output_type": "display_data"
    }
   ],
   "source": [
    "# Both return 160 variables, many of which are filled with NA records\n",
    "# If over 90% of a variable is filled with NA then it is omitted from the training and test datasets\n",
    "trainData <- trainData[, colMeans(is.na(trainData)) < 0.1]\n",
    "validData <- validData[, colMeans(is.na(validData)) < 0.1]\n",
    "dim(trainData)\n",
    "dim(validData)\n",
    "\n",
    "# We can remove the first five colums which are ID columns, as well as the timestamp as we do not need it in this analysis.\n",
    "trainData <- trainData[, -(1:5)]\n",
    "validData <- validData[, -(1:5)]\n",
    "dim(trainData)\n",
    "dim(validData)\n",
    "\n",
    "# We can also remove all variables with nearly zero variance\n",
    "near.zero.var <- nearZeroVar(trainData)\n",
    "trainData <- trainData[, -near.zero.var]\n",
    "validData <- validData[, -near.zero.var]\n",
    "dim(trainData)\n",
    "dim(validData)"
   ]
  },
  {
   "cell_type": "markdown",
   "metadata": {},
   "source": [
    "We have now managed to reduce the number of variables from 160 to 54 and since both the `validData` and `trainData` have an equal number of variables, we can implement our prediction algorithms in an easier fashion."
   ]
  },
  {
   "cell_type": "markdown",
   "metadata": {},
   "source": [
    "## Prediction Algorithms\n",
    "\n",
    "We will be exploring three distinct machine learning algorithms:  \n",
    "* Decision Tree (rpart)  \n",
    "* Random Forest (randomForest)  \n",
    "* Support Machine Vector (svm)  \n",
    "\n",
    "### 1. Decision Tree (rpart)"
   ]
  },
  {
   "cell_type": "code",
   "execution_count": 27,
   "metadata": {
    "collapsed": false
   },
   "outputs": [
    {
     "name": "stdout",
     "output_type": "stream",
     "text": [
      "n= 11776 \n",
      "\n",
      "node), split, n, loss, yval, (yprob)\n",
      "      * denotes terminal node\n",
      "\n",
      " 1) root 11776 8428 A (0.28 0.19 0.17 0.16 0.18)  \n",
      "   2) roll_belt< 130.5 10773 7430 A (0.31 0.21 0.19 0.18 0.11)  \n",
      "     4) pitch_forearm< -33.55 953   10 A (0.99 0.01 0 0 0) *\n",
      "     5) pitch_forearm>=-33.55 9820 7420 A (0.24 0.23 0.21 0.2 0.12)  \n",
      "      10) roll_forearm< 124.5 6286 4116 A (0.35 0.24 0.15 0.19 0.067)  \n",
      "        20) magnet_dumbbell_y< 437.5 5178 3063 A (0.41 0.18 0.18 0.17 0.059) *\n",
      "        21) magnet_dumbbell_y>=437.5 1108  538 B (0.05 0.51 0.032 0.3 0.11) *\n",
      "      11) roll_forearm>=124.5 3534 2452 C (0.065 0.21 0.31 0.21 0.21) *\n",
      "   3) roll_belt>=130.5 1003    5 E (0.005 0 0 0 1) *\n"
     ]
    }
   ],
   "source": [
    "mod.train.dt <- train(classe ~ ., method = \"rpart\", data = trainData)\n",
    "mod.predict.dt <- predict(mod.train.dt, validData)\n",
    "cm.dt <- confusionMatrix(mod.predict.dt, validData$classe)\n",
    "print(mod.train.dt$finalModel)"
   ]
  },
  {
   "cell_type": "code",
   "execution_count": 28,
   "metadata": {
    "collapsed": false
   },
   "outputs": [
    {
     "data": {
      "image/png": "[encoded data removed]",
      "text/plain": [
       "Plot with title \"\""
      ]
     },
     "metadata": {},
     "output_type": "display_data"
    }
   ],
   "source": [
    "fancyRpartPlot(mod.train.dt$finalModel,cex=.5,under.cex=1,shadow.offset=0)"
   ]
  },
  {
   "cell_type": "markdown",
   "metadata": {},
   "source": [
    "### 2. Random Forest\n",
    "#### Using `randomForest` package with 10-Fold Cross-Validation"
   ]
  },
  {
   "cell_type": "code",
   "execution_count": 29,
   "metadata": {
    "collapsed": false
   },
   "outputs": [
    {
     "name": "stdout",
     "output_type": "stream",
     "text": [
      "ntree      OOB      1      2      3      4      5\n",
      "   25:   1.66%  0.48%  2.59%  1.95%  2.75%  1.25%\n",
      "   50:   0.76%  0.06%  1.10%  0.97%  1.66%  0.51%\n",
      "   75:   0.59%  0.03%  0.92%  0.73%  1.30%  0.32%\n",
      "  100:   0.48%  0.03%  0.53%  0.63%  1.30%  0.23%\n",
      "  125:   0.47%  0.03%  0.48%  0.58%  1.30%  0.28%\n",
      "  150:   0.47%  0.03%  0.48%  0.58%  1.30%  0.28%\n",
      "  175:   0.49%  0.03%  0.48%  0.63%  1.40%  0.28%\n",
      "  200:   0.46%  0.00%  0.44%  0.49%  1.45%  0.28%\n"
     ]
    }
   ],
   "source": [
    "mod.train.rf <- randomForest(classe ~ ., data = trainData, mtry = 3, ntree = 200, do.trace = 25, cv.fold = 10)"
   ]
  },
  {
   "cell_type": "code",
   "execution_count": 30,
   "metadata": {
    "collapsed": true
   },
   "outputs": [],
   "source": [
    "mod.predict.rf <- predict(mod.train.rf, validData)\n",
    "cm.rf <- confusionMatrix(mod.predict.rf, validData$classe)"
   ]
  },
  {
   "cell_type": "code",
   "execution_count": 31,
   "metadata": {
    "collapsed": false
   },
   "outputs": [
    {
     "data": {
      "text/html": [
       "<table>\n",
       "<thead><tr><th></th><th scope=col>MeanDecreaseGini</th></tr></thead>\n",
       "<tbody>\n",
       "\t<tr><th scope=row>1</th><td>497.9939</td></tr>\n",
       "\t<tr><th scope=row>2</th><td>480.9568</td></tr>\n",
       "\t<tr><th scope=row>3</th><td>385.5397</td></tr>\n",
       "\t<tr><th scope=row>4</th><td>331.5475</td></tr>\n",
       "\t<tr><th scope=row>5</th><td>329.1098</td></tr>\n",
       "\t<tr><th scope=row>6</th><td>322.7718</td></tr>\n",
       "\t<tr><th scope=row>7</th><td>315.3276</td></tr>\n",
       "\t<tr><th scope=row>8</th><td>282.9777</td></tr>\n",
       "\t<tr><th scope=row>9</th><td>271.7181</td></tr>\n",
       "\t<tr><th scope=row>10</th><td>239.5335</td></tr>\n",
       "\t<tr><th scope=row>11</th><td>238.5848</td></tr>\n",
       "\t<tr><th scope=row>12</th><td>222.3757</td></tr>\n",
       "\t<tr><th scope=row>13</th><td>218.8574</td></tr>\n",
       "\t<tr><th scope=row>14</th><td>214.1166</td></tr>\n",
       "\t<tr><th scope=row>15</th><td>206.0474</td></tr>\n",
       "</tbody>\n",
       "</table>\n"
      ],
      "text/latex": [
       "\\begin{tabular}{r|l}\n",
       "  & MeanDecreaseGini\\\\\n",
       "\\hline\n",
       "\t1 & 497.9939\\\\\n",
       "\t2 & 480.9568\\\\\n",
       "\t3 & 385.5397\\\\\n",
       "\t4 & 331.5475\\\\\n",
       "\t5 & 329.1098\\\\\n",
       "\t6 & 322.7718\\\\\n",
       "\t7 & 315.3276\\\\\n",
       "\t8 & 282.9777\\\\\n",
       "\t9 & 271.7181\\\\\n",
       "\t10 & 239.5335\\\\\n",
       "\t11 & 238.5848\\\\\n",
       "\t12 & 222.3757\\\\\n",
       "\t13 & 218.8574\\\\\n",
       "\t14 & 214.1166\\\\\n",
       "\t15 & 206.0474\\\\\n",
       "\\end{tabular}\n"
      ],
      "text/plain": [
       "   MeanDecreaseGini\n",
       "1          497.9939\n",
       "2          480.9568\n",
       "3          385.5397\n",
       "4          331.5475\n",
       "5          329.1098\n",
       "6          322.7718\n",
       "7          315.3276\n",
       "8          282.9777\n",
       "9          271.7181\n",
       "10         239.5335\n",
       "11         238.5848\n",
       "12         222.3757\n",
       "13         218.8574\n",
       "14         214.1166\n",
       "15         206.0474"
      ]
     },
     "metadata": {},
     "output_type": "display_data"
    }
   ],
   "source": [
    "# Variable Importance According to Random Forest\n",
    "imp.rf <- importance(mod.train.rf)\n",
    "imp.rf.arranged <- arrange(as.data.frame(imp.rf), desc(MeanDecreaseGini))\n",
    "head(imp.rf.arranged, 15)"
   ]
  },
  {
   "cell_type": "code",
   "execution_count": 32,
   "metadata": {
    "collapsed": false
   },
   "outputs": [
    {
     "data": {
      "image/png": "[encoded data removed]",
      "text/plain": [
       "Plot with title \"Variable Importance\""
      ]
     },
     "metadata": {},
     "output_type": "display_data"
    }
   ],
   "source": [
    "varImpPlot(mod.train.rf, n.var = 15, sort = TRUE, main = \"Variable Importance\", lcolor = \"blue\", bg = \"purple\")"
   ]
  },
  {
   "cell_type": "markdown",
   "metadata": {},
   "source": [
    "### 3. Support Vector Machine"
   ]
  },
  {
   "cell_type": "code",
   "execution_count": 33,
   "metadata": {
    "collapsed": true
   },
   "outputs": [],
   "source": [
    "mod.train.svm <- svm(classe ~ ., data = trainData)\n",
    "mod.predict.svm <- predict(mod.train.svm, validData)\n",
    "cm.svm <- confusionMatrix(mod.predict.svm, validData$classe)"
   ]
  },
  {
   "cell_type": "markdown",
   "metadata": {},
   "source": [
    "## Compare Accuracies"
   ]
  },
  {
   "cell_type": "code",
   "execution_count": 34,
   "metadata": {
    "collapsed": false
   },
   "outputs": [
    {
     "data": {
      "text/html": [
       "<table>\n",
       "<thead><tr><th></th><th scope=col>Algorithm</th><th scope=col>Index</th><th scope=col>Accuracy</th></tr></thead>\n",
       "<tbody>\n",
       "\t<tr><th scope=row>1</th><td>Random Forest   </td><td>rf              </td><td>0.99400968646444</td></tr>\n",
       "\t<tr><th scope=row>2</th><td>Support Vector Machine</td><td>svm                   </td><td>0.946342085138924     </td></tr>\n",
       "\t<tr><th scope=row>3</th><td>Decision Tree    </td><td>dt               </td><td>0.476803466734642</td></tr>\n",
       "</tbody>\n",
       "</table>\n"
      ],
      "text/latex": [
       "\\begin{tabular}{r|lll}\n",
       "  & Algorithm & Index & Accuracy\\\\\n",
       "\\hline\n",
       "\t1 & Random Forest    & rf               & 0.99400968646444\\\\\n",
       "\t2 & Support Vector Machine & svm                    & 0.946342085138924     \\\\\n",
       "\t3 & Decision Tree     & dt                & 0.476803466734642\\\\\n",
       "\\end{tabular}\n"
      ],
      "text/plain": [
       "               Algorithm Index  Accuracy\n",
       "1          Random Forest    rf 0.9940097\n",
       "2 Support Vector Machine   svm 0.9463421\n",
       "3          Decision Tree    dt 0.4768035"
      ]
     },
     "metadata": {},
     "output_type": "display_data"
    }
   ],
   "source": [
    "a.dt <- cm.dt$overall[1]\n",
    "a.rf <- cm.rf$overall[1]\n",
    "a.svm <- cm.svm$overall[1]\n",
    "\n",
    "cm.dataframe <- data.frame(Algorithm = c(\"Decision Tree\", \"Random Forest\", \"Support Vector Machine\"), Index = c(\"dt\", \"rf\", \"svm\"), Accuracy = c(a.dt, a.rf, a.svm))\n",
    "cm.dataframe <- arrange(cm.dataframe, desc(Accuracy))\n",
    "cm.dataframe"
   ]
  },
  {
   "cell_type": "markdown",
   "metadata": {},
   "source": [
    "We can clearly see that Random Forest has the highest accuracy at ~ 99.4%, followed by Support Vector Machine at ~ 94.6%. Decision Tree gave us the lowest accuracy at ~ 47.7%."
   ]
  },
  {
   "cell_type": "markdown",
   "metadata": {},
   "source": [
    "## Errors\n",
    "### In Sample Error"
   ]
  },
  {
   "cell_type": "code",
   "execution_count": 35,
   "metadata": {
    "collapsed": false
   },
   "outputs": [
    {
     "data": {
      "text/html": [
       "0.600000000000001"
      ],
      "text/latex": [
       "0.600000000000001"
      ],
      "text/markdown": [
       "0.600000000000001"
      ],
      "text/plain": [
       "[1] 0.6"
      ]
     },
     "metadata": {},
     "output_type": "display_data"
    }
   ],
   "source": [
    "# In sample Error Rate\n",
    "InSampError.rf <- (1 - 0.994)*100\n",
    "InSampError.rf"
   ]
  },
  {
   "cell_type": "markdown",
   "metadata": {},
   "source": [
    "We can see that the In Sample error is 0.6%"
   ]
  },
  {
   "cell_type": "markdown",
   "metadata": {},
   "source": [
    "### Out of Sample Error"
   ]
  },
  {
   "cell_type": "code",
   "execution_count": 36,
   "metadata": {
    "collapsed": false
   },
   "outputs": [
    {
     "name": "stdout",
     "output_type": "stream",
     "text": [
      "\n",
      "Call:\n",
      " randomForest(formula = classe ~ ., data = trainData, mtry = 3,      ntree = 200, do.trace = 25, cv.fold = 10) \n",
      "               Type of random forest: classification\n",
      "                     Number of trees: 200\n",
      "No. of variables tried at each split: 3\n",
      "\n",
      "        OOB estimate of  error rate: 0.46%\n",
      "Confusion matrix:\n",
      "     A    B    C    D    E class.error\n",
      "A 3348    0    0    0    0 0.000000000\n",
      "B    7 2269    3    0    0 0.004387889\n",
      "C    0    9 2044    1    0 0.004868549\n",
      "D    0    0   27 1902    1 0.014507772\n",
      "E    0    0    1    5 2159 0.002771363\n"
     ]
    }
   ],
   "source": [
    "# Out of sample Error Rate\n",
    "print(mod.train.rf)"
   ]
  },
  {
   "cell_type": "markdown",
   "metadata": {},
   "source": [
    "We can see that the OOB (Out of Bag) or Out of Sample Error of Random Forest with 10-Fold Cross Validation is 0.53%, which is consistent with the confusion matrix.\n",
    "\n",
    "However, it is worthy to note that Random Forest OOB estimation does not require Cross Validation to decrease bias.\n",
    "\n",
    "The In Sample Error is actually higher than the OOB, which is definitely considered an anomaly. It might be due to variance in the estimation of the error rates or due to overfitting. Nonetheless our prediction in the next section proves our model highly accurate."
   ]
  },
  {
   "cell_type": "markdown",
   "metadata": {},
   "source": [
    "## Final Prediction Using Random Forest\n",
    "\n",
    "Prediction Results of Algorithm with Highest Accuracy (Random Forest)"
   ]
  },
  {
   "cell_type": "code",
   "execution_count": 37,
   "metadata": {
    "collapsed": false
   },
   "outputs": [
    {
     "data": {
      "text/html": [
       "<dl class=dl-horizontal>\n",
       "\t<dt>1</dt>\n",
       "\t\t<dd>B</dd>\n",
       "\t<dt>2</dt>\n",
       "\t\t<dd>A</dd>\n",
       "\t<dt>3</dt>\n",
       "\t\t<dd>B</dd>\n",
       "\t<dt>4</dt>\n",
       "\t\t<dd>A</dd>\n",
       "\t<dt>5</dt>\n",
       "\t\t<dd>A</dd>\n",
       "\t<dt>6</dt>\n",
       "\t\t<dd>E</dd>\n",
       "\t<dt>7</dt>\n",
       "\t\t<dd>D</dd>\n",
       "\t<dt>8</dt>\n",
       "\t\t<dd>B</dd>\n",
       "\t<dt>9</dt>\n",
       "\t\t<dd>A</dd>\n",
       "\t<dt>10</dt>\n",
       "\t\t<dd>A</dd>\n",
       "\t<dt>11</dt>\n",
       "\t\t<dd>B</dd>\n",
       "\t<dt>12</dt>\n",
       "\t\t<dd>C</dd>\n",
       "\t<dt>13</dt>\n",
       "\t\t<dd>B</dd>\n",
       "\t<dt>14</dt>\n",
       "\t\t<dd>A</dd>\n",
       "\t<dt>15</dt>\n",
       "\t\t<dd>E</dd>\n",
       "\t<dt>16</dt>\n",
       "\t\t<dd>E</dd>\n",
       "\t<dt>17</dt>\n",
       "\t\t<dd>A</dd>\n",
       "\t<dt>18</dt>\n",
       "\t\t<dd>B</dd>\n",
       "\t<dt>19</dt>\n",
       "\t\t<dd>B</dd>\n",
       "\t<dt>20</dt>\n",
       "\t\t<dd>B</dd>\n",
       "</dl>\n"
      ],
      "text/latex": [
       "\\begin{description*}\n",
       "\\item[1] B\n",
       "\\item[2] A\n",
       "\\item[3] B\n",
       "\\item[4] A\n",
       "\\item[5] A\n",
       "\\item[6] E\n",
       "\\item[7] D\n",
       "\\item[8] B\n",
       "\\item[9] A\n",
       "\\item[10] A\n",
       "\\item[11] B\n",
       "\\item[12] C\n",
       "\\item[13] B\n",
       "\\item[14] A\n",
       "\\item[15] E\n",
       "\\item[16] E\n",
       "\\item[17] A\n",
       "\\item[18] B\n",
       "\\item[19] B\n",
       "\\item[20] B\n",
       "\\end{description*}\n"
      ],
      "text/markdown": [
       "1\n",
       ":   B2\n",
       ":   A3\n",
       ":   B4\n",
       ":   A5\n",
       ":   A6\n",
       ":   E7\n",
       ":   D8\n",
       ":   B9\n",
       ":   A10\n",
       ":   A11\n",
       ":   B12\n",
       ":   C13\n",
       ":   B14\n",
       ":   A15\n",
       ":   E16\n",
       ":   E17\n",
       ":   A18\n",
       ":   B19\n",
       ":   B20\n",
       ":   B\n",
       "\n"
      ],
      "text/plain": [
       " 1  2  3  4  5  6  7  8  9 10 11 12 13 14 15 16 17 18 19 20 \n",
       " B  A  B  A  A  E  D  B  A  A  B  C  B  A  E  E  A  B  B  B \n",
       "Levels: A B C D E"
      ]
     },
     "metadata": {},
     "output_type": "display_data"
    }
   ],
   "source": [
    "fp.rf <- predict(mod.train.rf, newdata=test)\n",
    "fp.rf"
   ]
  },
  {
   "cell_type": "markdown",
   "metadata": {},
   "source": [
    "Using Random Forest to predict our Testing Dataset is the best decision. And it accurately predicted all 20 cases."
   ]
  },
  {
   "cell_type": "code",
   "execution_count": null,
   "metadata": {
    "collapsed": true
   },
   "outputs": [],
   "source": []
  }
 ],
 "metadata": {
  "anaconda-cloud": {},
  "kernelspec": {
   "display_name": "R",
   "language": "R",
   "name": "ir"
  },
  "language_info": {
   "codemirror_mode": "r",
   "file_extension": ".r",
   "mimetype": "text/x-r-source",
   "name": "R",
   "pygments_lexer": "r",
   "version": "3.3.1"
  }
 },
 "nbformat": 4,
 "nbformat_minor": 1
}
